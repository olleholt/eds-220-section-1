{
 "cells": [
  {
   "cell_type": "markdown",
   "id": "fce37c2f-e5e6-4b78-89ed-7ee9c1c3265a",
   "metadata": {},
   "source": [
    "olivia holt\n",
    "eds-220 lab 10/05/2023\n",
    "\n",
    "The data are prey items for endangered terrestrial vertebrate species within central California drylands with associated environmental data.\n",
    "\n",
    "This dataset is stored in the Knowledge Network for Biocomplexity (KNB) data repository.\n",
    "Found here: https://knb.ecoinformatics.org/view/doi%3A10.5063%2FF1VM49RH"
   ]
  }
 ],
 "metadata": {
  "kernelspec": {
   "display_name": "Anaconda 3 (Base)",
   "language": "python",
   "name": "base"
  },
  "language_info": {
   "codemirror_mode": {
    "name": "ipython",
    "version": 3
   },
   "file_extension": ".py",
   "mimetype": "text/x-python",
   "name": "python",
   "nbconvert_exporter": "python",
   "pygments_lexer": "ipython3",
   "version": "3.9.13"
  }
 },
 "nbformat": 4,
 "nbformat_minor": 5
}
